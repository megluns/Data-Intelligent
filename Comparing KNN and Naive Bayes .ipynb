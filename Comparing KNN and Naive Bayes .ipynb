{
 "cells": [
  {
   "cell_type": "markdown",
   "metadata": {},
   "source": [
    "# Comparing Naive Bayes and K-Nearest Neighbor Classification Methods of Breast Cancer in Coimbra, Portugal 2018 with Python\n",
    "Data yang digunakan adalah data kanker payudara di area Coimbra, Portugal pada 2018 dengan jumlah 116 data dan 10 variabel. Variabel tersebut antara lain:\n",
    "1.  Age (years) \n",
    "2. BMI (kg/m2) \n",
    "3. Glucose (mg/dL) \n",
    "4. Insulin (µU/mL) \n",
    "5. HOMA \n",
    "6. Leptin (ng/mL) \n",
    "7. Adiponectin (µg/mL) \n",
    "8. Resistin (ng/mL) \n",
    "9. MCP-1(pg/dL) \n",
    "10. Classification (1= healthy controls and 2= patients)"
   ]
  },
  {
   "cell_type": "code",
   "execution_count": 187,
   "metadata": {},
   "outputs": [],
   "source": [
    "#Importing all the needed libraries\n",
    "import pandas as pd\n",
    "import numpy as np\n",
    "import matplotlib.pyplot as plt "
   ]
  },
  {
   "cell_type": "code",
   "execution_count": 188,
   "metadata": {
    "scrolled": true
   },
   "outputs": [
    {
     "data": {
      "text/html": [
       "<div>\n",
       "<style scoped>\n",
       "    .dataframe tbody tr th:only-of-type {\n",
       "        vertical-align: middle;\n",
       "    }\n",
       "\n",
       "    .dataframe tbody tr th {\n",
       "        vertical-align: top;\n",
       "    }\n",
       "\n",
       "    .dataframe thead th {\n",
       "        text-align: right;\n",
       "    }\n",
       "</style>\n",
       "<table border=\"1\" class=\"dataframe\">\n",
       "  <thead>\n",
       "    <tr style=\"text-align: right;\">\n",
       "      <th></th>\n",
       "      <th>Age</th>\n",
       "      <th>BMI</th>\n",
       "      <th>Glucose</th>\n",
       "      <th>Insulin</th>\n",
       "      <th>HOMA</th>\n",
       "      <th>Leptin</th>\n",
       "      <th>Adiponectin</th>\n",
       "      <th>Resistin</th>\n",
       "      <th>MCP.1</th>\n",
       "      <th>Classification</th>\n",
       "    </tr>\n",
       "  </thead>\n",
       "  <tbody>\n",
       "    <tr>\n",
       "      <th>0</th>\n",
       "      <td>48</td>\n",
       "      <td>23.500000</td>\n",
       "      <td>70</td>\n",
       "      <td>2.707</td>\n",
       "      <td>0.467409</td>\n",
       "      <td>8.8071</td>\n",
       "      <td>9.702400</td>\n",
       "      <td>7.99585</td>\n",
       "      <td>417.114</td>\n",
       "      <td>1</td>\n",
       "    </tr>\n",
       "    <tr>\n",
       "      <th>1</th>\n",
       "      <td>83</td>\n",
       "      <td>20.690495</td>\n",
       "      <td>92</td>\n",
       "      <td>3.115</td>\n",
       "      <td>0.706897</td>\n",
       "      <td>8.8438</td>\n",
       "      <td>5.429285</td>\n",
       "      <td>4.06405</td>\n",
       "      <td>468.786</td>\n",
       "      <td>1</td>\n",
       "    </tr>\n",
       "    <tr>\n",
       "      <th>2</th>\n",
       "      <td>82</td>\n",
       "      <td>23.124670</td>\n",
       "      <td>91</td>\n",
       "      <td>4.498</td>\n",
       "      <td>1.009651</td>\n",
       "      <td>17.9393</td>\n",
       "      <td>22.432040</td>\n",
       "      <td>9.27715</td>\n",
       "      <td>554.697</td>\n",
       "      <td>1</td>\n",
       "    </tr>\n",
       "    <tr>\n",
       "      <th>3</th>\n",
       "      <td>68</td>\n",
       "      <td>21.367521</td>\n",
       "      <td>77</td>\n",
       "      <td>3.226</td>\n",
       "      <td>0.612725</td>\n",
       "      <td>9.8827</td>\n",
       "      <td>7.169560</td>\n",
       "      <td>12.76600</td>\n",
       "      <td>928.220</td>\n",
       "      <td>1</td>\n",
       "    </tr>\n",
       "    <tr>\n",
       "      <th>4</th>\n",
       "      <td>86</td>\n",
       "      <td>21.111111</td>\n",
       "      <td>92</td>\n",
       "      <td>3.549</td>\n",
       "      <td>0.805386</td>\n",
       "      <td>6.6994</td>\n",
       "      <td>4.819240</td>\n",
       "      <td>10.57635</td>\n",
       "      <td>773.920</td>\n",
       "      <td>1</td>\n",
       "    </tr>\n",
       "  </tbody>\n",
       "</table>\n",
       "</div>"
      ],
      "text/plain": [
       "   Age        BMI  Glucose  Insulin      HOMA   Leptin  Adiponectin  Resistin  \\\n",
       "0   48  23.500000       70    2.707  0.467409   8.8071     9.702400   7.99585   \n",
       "1   83  20.690495       92    3.115  0.706897   8.8438     5.429285   4.06405   \n",
       "2   82  23.124670       91    4.498  1.009651  17.9393    22.432040   9.27715   \n",
       "3   68  21.367521       77    3.226  0.612725   9.8827     7.169560  12.76600   \n",
       "4   86  21.111111       92    3.549  0.805386   6.6994     4.819240  10.57635   \n",
       "\n",
       "     MCP.1  Classification  \n",
       "0  417.114               1  \n",
       "1  468.786               1  \n",
       "2  554.697               1  \n",
       "3  928.220               1  \n",
       "4  773.920               1  "
      ]
     },
     "execution_count": 188,
     "metadata": {},
     "output_type": "execute_result"
    }
   ],
   "source": [
    "cancer = pd.read_csv(\"DataR2.csv\")\n",
    "cancer.head()"
   ]
  },
  {
   "cell_type": "code",
   "execution_count": 144,
   "metadata": {},
   "outputs": [
    {
     "name": "stdout",
     "output_type": "stream",
     "text": [
      "<class 'pandas.core.frame.DataFrame'>\n",
      "RangeIndex: 116 entries, 0 to 115\n",
      "Data columns (total 10 columns):\n",
      "Age               116 non-null int64\n",
      "BMI               116 non-null float64\n",
      "Glucose           116 non-null int64\n",
      "Insulin           116 non-null float64\n",
      "HOMA              116 non-null float64\n",
      "Leptin            116 non-null float64\n",
      "Adiponectin       116 non-null float64\n",
      "Resistin          116 non-null float64\n",
      "MCP.1             116 non-null float64\n",
      "Classification    116 non-null int64\n",
      "dtypes: float64(7), int64(3)\n",
      "memory usage: 9.1 KB\n"
     ]
    }
   ],
   "source": [
    "cancer.info()"
   ]
  },
  {
   "cell_type": "code",
   "execution_count": 189,
   "metadata": {},
   "outputs": [
    {
     "data": {
      "text/html": [
       "<div>\n",
       "<style scoped>\n",
       "    .dataframe tbody tr th:only-of-type {\n",
       "        vertical-align: middle;\n",
       "    }\n",
       "\n",
       "    .dataframe tbody tr th {\n",
       "        vertical-align: top;\n",
       "    }\n",
       "\n",
       "    .dataframe thead th {\n",
       "        text-align: right;\n",
       "    }\n",
       "</style>\n",
       "<table border=\"1\" class=\"dataframe\">\n",
       "  <thead>\n",
       "    <tr style=\"text-align: right;\">\n",
       "      <th></th>\n",
       "      <th>Age</th>\n",
       "      <th>BMI</th>\n",
       "      <th>Glucose</th>\n",
       "      <th>Insulin</th>\n",
       "      <th>HOMA</th>\n",
       "      <th>Leptin</th>\n",
       "      <th>Adiponectin</th>\n",
       "      <th>Resistin</th>\n",
       "      <th>MCP.1</th>\n",
       "    </tr>\n",
       "  </thead>\n",
       "  <tbody>\n",
       "    <tr>\n",
       "      <th>0</th>\n",
       "      <td>48</td>\n",
       "      <td>23.500000</td>\n",
       "      <td>70</td>\n",
       "      <td>2.707</td>\n",
       "      <td>0.467409</td>\n",
       "      <td>8.8071</td>\n",
       "      <td>9.702400</td>\n",
       "      <td>7.99585</td>\n",
       "      <td>417.114</td>\n",
       "    </tr>\n",
       "    <tr>\n",
       "      <th>1</th>\n",
       "      <td>83</td>\n",
       "      <td>20.690495</td>\n",
       "      <td>92</td>\n",
       "      <td>3.115</td>\n",
       "      <td>0.706897</td>\n",
       "      <td>8.8438</td>\n",
       "      <td>5.429285</td>\n",
       "      <td>4.06405</td>\n",
       "      <td>468.786</td>\n",
       "    </tr>\n",
       "    <tr>\n",
       "      <th>2</th>\n",
       "      <td>82</td>\n",
       "      <td>23.124670</td>\n",
       "      <td>91</td>\n",
       "      <td>4.498</td>\n",
       "      <td>1.009651</td>\n",
       "      <td>17.9393</td>\n",
       "      <td>22.432040</td>\n",
       "      <td>9.27715</td>\n",
       "      <td>554.697</td>\n",
       "    </tr>\n",
       "    <tr>\n",
       "      <th>3</th>\n",
       "      <td>68</td>\n",
       "      <td>21.367521</td>\n",
       "      <td>77</td>\n",
       "      <td>3.226</td>\n",
       "      <td>0.612725</td>\n",
       "      <td>9.8827</td>\n",
       "      <td>7.169560</td>\n",
       "      <td>12.76600</td>\n",
       "      <td>928.220</td>\n",
       "    </tr>\n",
       "    <tr>\n",
       "      <th>4</th>\n",
       "      <td>86</td>\n",
       "      <td>21.111111</td>\n",
       "      <td>92</td>\n",
       "      <td>3.549</td>\n",
       "      <td>0.805386</td>\n",
       "      <td>6.6994</td>\n",
       "      <td>4.819240</td>\n",
       "      <td>10.57635</td>\n",
       "      <td>773.920</td>\n",
       "    </tr>\n",
       "  </tbody>\n",
       "</table>\n",
       "</div>"
      ],
      "text/plain": [
       "   Age        BMI  Glucose  Insulin      HOMA   Leptin  Adiponectin  Resistin  \\\n",
       "0   48  23.500000       70    2.707  0.467409   8.8071     9.702400   7.99585   \n",
       "1   83  20.690495       92    3.115  0.706897   8.8438     5.429285   4.06405   \n",
       "2   82  23.124670       91    4.498  1.009651  17.9393    22.432040   9.27715   \n",
       "3   68  21.367521       77    3.226  0.612725   9.8827     7.169560  12.76600   \n",
       "4   86  21.111111       92    3.549  0.805386   6.6994     4.819240  10.57635   \n",
       "\n",
       "     MCP.1  \n",
       "0  417.114  \n",
       "1  468.786  \n",
       "2  554.697  \n",
       "3  928.220  \n",
       "4  773.920  "
      ]
     },
     "execution_count": 189,
     "metadata": {},
     "output_type": "execute_result"
    }
   ],
   "source": [
    "# Variabel independen (X)\n",
    "x = cancer.drop([\"Classification\"], axis = 1)\n",
    "x.head()"
   ]
  },
  {
   "cell_type": "code",
   "execution_count": 190,
   "metadata": {},
   "outputs": [
    {
     "data": {
      "text/plain": [
       "0    1\n",
       "1    1\n",
       "2    1\n",
       "3    1\n",
       "4    1\n",
       "Name: Classification, dtype: int64"
      ]
     },
     "execution_count": 190,
     "metadata": {},
     "output_type": "execute_result"
    }
   ],
   "source": [
    "# Variabel dependen\n",
    "y = cancer[\"Classification\"]\n",
    "y.head()"
   ]
  },
  {
   "cell_type": "code",
   "execution_count": 303,
   "metadata": {},
   "outputs": [],
   "source": [
    "from sklearn.model_selection import train_test_split"
   ]
  },
  {
   "cell_type": "code",
   "execution_count": 304,
   "metadata": {},
   "outputs": [],
   "source": [
    "x_train, x_test, y_train, y_test = train_test_split(x, y, test_size = 0.2, random_state = 123)"
   ]
  },
  {
   "cell_type": "code",
   "execution_count": 305,
   "metadata": {},
   "outputs": [
    {
     "data": {
      "text/plain": [
       "4      1\n",
       "89     2\n",
       "53     2\n",
       "100    2\n",
       "28     1\n",
       "105    2\n",
       "59     2\n",
       "65     2\n",
       "90     2\n",
       "33     1\n",
       "50     1\n",
       "8      1\n",
       "5      1\n",
       "0      1\n",
       "13     1\n",
       "44     1\n",
       "82     2\n",
       "101    2\n",
       "70     2\n",
       "60     2\n",
       "62     2\n",
       "42     1\n",
       "85     2\n",
       "95     2\n",
       "Name: Classification, dtype: int64"
      ]
     },
     "execution_count": 305,
     "metadata": {},
     "output_type": "execute_result"
    }
   ],
   "source": [
    "y_test"
   ]
  },
  {
   "cell_type": "code",
   "execution_count": 341,
   "metadata": {},
   "outputs": [],
   "source": [
    "from sklearn.preprocessing import StandardScaler  \n",
    "scaler = StandardScaler()  \n",
    "scaler.fit(x_train)\n",
    "\n",
    "x_train = scaler.transform(x_train)  \n",
    "x_test = scaler.transform(x_test) "
   ]
  },
  {
   "cell_type": "markdown",
   "metadata": {},
   "source": [
    "# Klasifikasi : Naive Bayes"
   ]
  },
  {
   "cell_type": "code",
   "execution_count": 365,
   "metadata": {},
   "outputs": [],
   "source": [
    "from sklearn.naive_bayes import GaussianNB"
   ]
  },
  {
   "cell_type": "code",
   "execution_count": 366,
   "metadata": {},
   "outputs": [],
   "source": [
    "# Mengaktifkan/memanggil/membuat fungsi klasifikasi Naive bayes\n",
    "modelnb = GaussianNB()"
   ]
  },
  {
   "cell_type": "code",
   "execution_count": 367,
   "metadata": {},
   "outputs": [],
   "source": [
    "# Memasukkan data training pada fungsi klasifikasi naive bayes\n",
    "nbtrain = modelnb.fit(x_train, y_train)"
   ]
  },
  {
   "cell_type": "code",
   "execution_count": 368,
   "metadata": {},
   "outputs": [
    {
     "data": {
      "text/plain": [
       "array([42., 50.])"
      ]
     },
     "execution_count": 368,
     "metadata": {},
     "output_type": "execute_result"
    }
   ],
   "source": [
    "nbtrain.class_count_"
   ]
  },
  {
   "cell_type": "code",
   "execution_count": 369,
   "metadata": {
    "scrolled": true
   },
   "outputs": [
    {
     "data": {
      "text/plain": [
       "array([1, 2, 1, 1, 1, 2, 1, 1, 2, 2, 2, 1, 1, 1, 1, 1, 2, 1, 1, 1, 1, 1,\n",
       "       2, 1], dtype=int64)"
      ]
     },
     "execution_count": 369,
     "metadata": {},
     "output_type": "execute_result"
    }
   ],
   "source": [
    "# Menentukan hasil prediksi dari x_test\n",
    "y_pred = nbtrain.predict(x_test)\n",
    "y_pred"
   ]
  },
  {
   "cell_type": "code",
   "execution_count": 347,
   "metadata": {},
   "outputs": [
    {
     "data": {
      "text/plain": [
       "array([[9.87788163e-01, 1.22118368e-02],\n",
       "       [1.45443011e-12, 1.00000000e+00],\n",
       "       [9.50310237e-01, 4.96897629e-02],\n",
       "       [9.80202417e-01, 1.97975829e-02],\n",
       "       [9.94829631e-01, 5.17036944e-03],\n",
       "       [7.14666090e-03, 9.92853339e-01],\n",
       "       [9.66509660e-01, 3.34903396e-02],\n",
       "       [5.55875956e-01, 4.44124044e-01],\n",
       "       [9.30422221e-69, 1.00000000e+00],\n",
       "       [4.40813323e-08, 9.99999956e-01],\n",
       "       [1.90471059e-17, 1.00000000e+00],\n",
       "       [9.59193538e-01, 4.08064616e-02],\n",
       "       [9.68870247e-01, 3.11297533e-02],\n",
       "       [9.22726655e-01, 7.72733452e-02],\n",
       "       [9.99217914e-01, 7.82085682e-04],\n",
       "       [9.47188022e-01, 5.28119781e-02],\n",
       "       [8.98562658e-18, 1.00000000e+00],\n",
       "       [9.84267435e-01, 1.57325650e-02],\n",
       "       [9.73658595e-01, 2.63414051e-02],\n",
       "       [9.79376416e-01, 2.06235836e-02],\n",
       "       [9.33941625e-01, 6.60583747e-02],\n",
       "       [9.91441926e-01, 8.55807439e-03],\n",
       "       [1.11533698e-02, 9.88846630e-01],\n",
       "       [9.57619888e-01, 4.23801120e-02]])"
      ]
     },
     "execution_count": 347,
     "metadata": {},
     "output_type": "execute_result"
    }
   ],
   "source": [
    "# Menentukan probabilitas hasil prediksi\n",
    "nbtrain.predict_proba(x_test)"
   ]
  },
  {
   "cell_type": "code",
   "execution_count": 348,
   "metadata": {},
   "outputs": [],
   "source": [
    "from sklearn.metrics import confusion_matrix"
   ]
  },
  {
   "cell_type": "code",
   "execution_count": 349,
   "metadata": {},
   "outputs": [
    {
     "data": {
      "text/plain": [
       "array([[8, 2],\n",
       "       [9, 5]], dtype=int64)"
      ]
     },
     "execution_count": 349,
     "metadata": {},
     "output_type": "execute_result"
    }
   ],
   "source": [
    "confusion_matrix(y_test, y_pred)"
   ]
  },
  {
   "cell_type": "code",
   "execution_count": 350,
   "metadata": {},
   "outputs": [],
   "source": [
    "# Merapikan hasil confusion matrix\n",
    "y_actual = pd.Series([1,2,2,2,1,2,2,2,2,1,1,1,1,1,1,1,2,2,2,2,2,1,2,2], name = \"actual\")\n",
    "y_pred = pd.Series([1, 2, 1, 1, 1, 2, 1, 1, 2, 2, 2, 1, 1, 1, 1, 1, 2, 1, 1, 1, 1, 1,\n",
    "       2, 1], name = \"prediction\")\n",
    "df_confusion = pd.crosstab(y_actual, y_pred)"
   ]
  },
  {
   "cell_type": "code",
   "execution_count": 351,
   "metadata": {},
   "outputs": [
    {
     "data": {
      "text/html": [
       "<div>\n",
       "<style scoped>\n",
       "    .dataframe tbody tr th:only-of-type {\n",
       "        vertical-align: middle;\n",
       "    }\n",
       "\n",
       "    .dataframe tbody tr th {\n",
       "        vertical-align: top;\n",
       "    }\n",
       "\n",
       "    .dataframe thead th {\n",
       "        text-align: right;\n",
       "    }\n",
       "</style>\n",
       "<table border=\"1\" class=\"dataframe\">\n",
       "  <thead>\n",
       "    <tr style=\"text-align: right;\">\n",
       "      <th>prediction</th>\n",
       "      <th>1</th>\n",
       "      <th>2</th>\n",
       "    </tr>\n",
       "    <tr>\n",
       "      <th>actual</th>\n",
       "      <th></th>\n",
       "      <th></th>\n",
       "    </tr>\n",
       "  </thead>\n",
       "  <tbody>\n",
       "    <tr>\n",
       "      <th>1</th>\n",
       "      <td>8</td>\n",
       "      <td>2</td>\n",
       "    </tr>\n",
       "    <tr>\n",
       "      <th>2</th>\n",
       "      <td>9</td>\n",
       "      <td>5</td>\n",
       "    </tr>\n",
       "  </tbody>\n",
       "</table>\n",
       "</div>"
      ],
      "text/plain": [
       "prediction  1  2\n",
       "actual          \n",
       "1           8  2\n",
       "2           9  5"
      ]
     },
     "execution_count": 351,
     "metadata": {},
     "output_type": "execute_result"
    }
   ],
   "source": [
    "df_confusion"
   ]
  },
  {
   "cell_type": "code",
   "execution_count": 352,
   "metadata": {},
   "outputs": [],
   "source": [
    "from sklearn.metrics import classification_report"
   ]
  },
  {
   "cell_type": "code",
   "execution_count": 353,
   "metadata": {},
   "outputs": [
    {
     "name": "stdout",
     "output_type": "stream",
     "text": [
      "             precision    recall  f1-score   support\n",
      "\n",
      "          1       0.47      0.80      0.59        10\n",
      "          2       0.71      0.36      0.48        14\n",
      "\n",
      "avg / total       0.61      0.54      0.52        24\n",
      "\n"
     ]
    }
   ],
   "source": [
    "print (classification_report(y_test, y_pred))"
   ]
  },
  {
   "cell_type": "code",
   "execution_count": 354,
   "metadata": {},
   "outputs": [
    {
     "data": {
      "text/plain": [
       "0.5416666666666666"
      ]
     },
     "execution_count": 354,
     "metadata": {},
     "output_type": "execute_result"
    }
   ],
   "source": [
    "#(TP/ TN)/ n\n",
    "Accuracy = (8+5)/24\n",
    "Accuracy"
   ]
  },
  {
   "cell_type": "code",
   "execution_count": 319,
   "metadata": {},
   "outputs": [],
   "source": [
    "from pycm import*"
   ]
  },
  {
   "cell_type": "code",
   "execution_count": 214,
   "metadata": {},
   "outputs": [],
   "source": [
    "y_actual1 = [1,2,2,2,1,2,2,2,2,1,1,1,1,1,1,1,2,2,2,2,2,1,2,2]\n",
    "y_pred1 = [1, 2, 1, 1, 1, 2, 1, 1, 2, 2, 2, 1, 1, 1, 1, 1, 2, 1, 1, 1, 1, 1,\n",
    "       2, 1]"
   ]
  },
  {
   "cell_type": "code",
   "execution_count": 297,
   "metadata": {},
   "outputs": [
    {
     "name": "stdout",
     "output_type": "stream",
     "text": [
      "Predict          1     2     \n",
      "Actual\n",
      "1                10    0     \n",
      "\n",
      "2                14    0     \n",
      "\n",
      "\n",
      "\n",
      "\n",
      "\n",
      "Overall Statistics : \n",
      "\n",
      "95% CI                                                           (0.21942,0.61391)\n",
      "AUNP                                                             0.5\n",
      "AUNU                                                             0.5\n",
      "Bennett S                                                        -0.16667\n",
      "CBA                                                              0.20833\n",
      "Chi-Squared                                                      None\n",
      "Chi-Squared DF                                                   1\n",
      "Conditional Entropy                                              -0.0\n",
      "Cramer V                                                         None\n",
      "Cross Entropy                                                    -0.0\n",
      "Gwet AC1                                                         0.00592\n",
      "Hamming Loss                                                     0.58333\n",
      "Joint Entropy                                                    0.97987\n",
      "KL Divergence                                                    None\n",
      "Kappa                                                            0.0\n",
      "Kappa 95% CI                                                     (-0.33813,0.33813)\n",
      "Kappa No Prevalence                                              -0.16667\n",
      "Kappa Standard Error                                             0.17252\n",
      "Kappa Unbiased                                                   -0.41176\n",
      "Lambda A                                                         0.0\n",
      "Lambda B                                                         None\n",
      "Mutual Information                                               0.0\n",
      "NIR                                                              0.58333\n",
      "Overall ACC                                                      0.41667\n",
      "Overall CEN                                                      0.37336\n",
      "Overall J                                                        (0.41667,0.20833)\n",
      "Overall MCC                                                      None\n",
      "Overall MCEN                                                     0.2268\n",
      "Overall RACC                                                     0.41667\n",
      "Overall RACCU                                                    0.58681\n",
      "P-Value                                                          0.96791\n",
      "PPV Macro                                                        None\n",
      "PPV Micro                                                        0.41667\n",
      "Phi-Squared                                                      None\n",
      "RCI                                                              0.0\n",
      "RR                                                               12.0\n",
      "Reference Entropy                                                0.97987\n",
      "Response Entropy                                                 -0.0\n",
      "SOA1(Landis & Koch)                                              Slight\n",
      "SOA2(Fleiss)                                                     Poor\n",
      "SOA3(Altman)                                                     Poor\n",
      "SOA4(Cicchetti)                                                  Poor\n",
      "Scott PI                                                         -0.41176\n",
      "Standard Error                                                   0.10063\n",
      "TPR Macro                                                        0.5\n",
      "TPR Micro                                                        0.41667\n",
      "Zero-one Loss                                                    14\n",
      "\n",
      "Class Statistics :\n",
      "\n",
      "Classes                                                          1                       2                       \n",
      "ACC(Accuracy)                                                    0.41667                 0.41667                 \n",
      "AUC(Area under the roc curve)                                    0.5                     0.5                     \n",
      "AUCI(Auc value interpretation)                                   Poor                    Poor                    \n",
      "BM(Informedness or bookmaker informedness)                       0.0                     0.0                     \n",
      "CEN(Confusion entropy)                                           0.5271                  0.0                     \n",
      "DOR(Diagnostic odds ratio)                                       None                    None                    \n",
      "DP(Discriminant power)                                           None                    None                    \n",
      "DPI(Discriminant power interpretation)                           None                    None                    \n",
      "ERR(Error rate)                                                  0.58333                 0.58333                 \n",
      "F0.5(F0.5 score)                                                 0.4717                  0.0                     \n",
      "F1(F1 score - harmonic mean of precision and sensitivity)        0.58824                 0.0                     \n",
      "F2(F2 score)                                                     0.78125                 0.0                     \n",
      "FDR(False discovery rate)                                        0.58333                 None                    \n",
      "FN(False negative/miss/type 2 error)                             0                       14                      \n",
      "FNR(Miss rate or false negative rate)                            0.0                     1.0                     \n",
      "FOR(False omission rate)                                         None                    0.58333                 \n",
      "FP(False positive/type 1 error/false alarm)                      14                      0                       \n",
      "FPR(Fall-out or false positive rate)                             1.0                     0.0                     \n",
      "G(G-measure geometric mean of precision and sensitivity)         0.6455                  None                    \n",
      "GI(Gini index)                                                   0.0                     0.0                     \n",
      "IS(Information score)                                            0.0                     None                    \n",
      "J(Jaccard index)                                                 0.41667                 0.0                     \n",
      "MCC(Matthews correlation coefficient)                            None                    None                    \n",
      "MCEN(Modified confusion entropy)                                 0.4536                  0.0                     \n",
      "MK(Markedness)                                                   None                    None                    \n",
      "N(Condition negative)                                            14                      10                      \n",
      "NLR(Negative likelihood ratio)                                   None                    1.0                     \n",
      "NPV(Negative predictive value)                                   None                    0.41667                 \n",
      "P(Condition positive or support)                                 10                      14                      \n",
      "PLR(Positive likelihood ratio)                                   1.0                     None                    \n",
      "PLRI(Positive likelihood ratio interpretation)                   Negligible              None                    \n",
      "POP(Population)                                                  24                      24                      \n",
      "PPV(Precision or positive predictive value)                      0.41667                 None                    \n",
      "PRE(Prevalence)                                                  0.41667                 0.58333                 \n",
      "RACC(Random accuracy)                                            0.41667                 0.0                     \n",
      "RACCU(Random accuracy unbiased)                                  0.50174                 0.08507                 \n",
      "TN(True negative/correct rejection)                              0                       10                      \n",
      "TNR(Specificity or true negative rate)                           0.0                     1.0                     \n",
      "TON(Test outcome negative)                                       0                       24                      \n",
      "TOP(Test outcome positive)                                       24                      0                       \n",
      "TP(True positive/hit)                                            10                      0                       \n",
      "TPR(Sensitivity, recall, hit rate, or true positive rate)        1.0                     0.0                     \n",
      "Y(Youden index)                                                  0.0                     0.0                     \n",
      "dInd(Distance index)                                             1.0                     1.0                     \n",
      "sInd(Similarity index)                                           0.29289                 0.29289                 \n",
      "\n"
     ]
    }
   ],
   "source": [
    "print(ConfusionMatrix(y_actual1, y_pred1))"
   ]
  },
  {
   "cell_type": "markdown",
   "metadata": {},
   "source": [
    "# Klasifikasi : K- Nearest Neighbor "
   ]
  },
  {
   "cell_type": "code",
   "execution_count": 355,
   "metadata": {},
   "outputs": [],
   "source": [
    "from sklearn.neighbors import KNeighborsClassifier "
   ]
  },
  {
   "cell_type": "code",
   "execution_count": 356,
   "metadata": {},
   "outputs": [],
   "source": [
    "#membuat fungsi klasifikasi KNN\n",
    "classifier = KNeighborsClassifier(n_neighbors=5) "
   ]
  },
  {
   "cell_type": "code",
   "execution_count": 357,
   "metadata": {},
   "outputs": [
    {
     "data": {
      "text/plain": [
       "KNeighborsClassifier(algorithm='auto', leaf_size=30, metric='minkowski',\n",
       "           metric_params=None, n_jobs=1, n_neighbors=5, p=2,\n",
       "           weights='uniform')"
      ]
     },
     "execution_count": 357,
     "metadata": {},
     "output_type": "execute_result"
    }
   ],
   "source": [
    "# Memasukkan data training pada fungsi klasifikasi KNN\n",
    "classifier.fit(x_train, y_train)"
   ]
  },
  {
   "cell_type": "code",
   "execution_count": 358,
   "metadata": {},
   "outputs": [
    {
     "data": {
      "text/plain": [
       "array([1, 2, 2, 1, 1, 2, 2, 2, 2, 2, 2, 1, 2, 2, 1, 1, 2, 1, 1, 2, 2, 1,\n",
       "       1, 2], dtype=int64)"
      ]
     },
     "execution_count": 358,
     "metadata": {},
     "output_type": "execute_result"
    }
   ],
   "source": [
    "# Menentukan hasil prediksi dari x_test\n",
    "y_pred = classifier.predict(x_test) \n",
    "y_pred"
   ]
  },
  {
   "cell_type": "code",
   "execution_count": 359,
   "metadata": {},
   "outputs": [
    {
     "data": {
      "text/plain": [
       "4      1\n",
       "89     2\n",
       "53     2\n",
       "100    2\n",
       "28     1\n",
       "105    2\n",
       "59     2\n",
       "65     2\n",
       "90     2\n",
       "33     1\n",
       "50     1\n",
       "8      1\n",
       "5      1\n",
       "0      1\n",
       "13     1\n",
       "44     1\n",
       "82     2\n",
       "101    2\n",
       "70     2\n",
       "60     2\n",
       "62     2\n",
       "42     1\n",
       "85     2\n",
       "95     2\n",
       "Name: Classification, dtype: int64"
      ]
     },
     "execution_count": 359,
     "metadata": {},
     "output_type": "execute_result"
    }
   ],
   "source": [
    "y_test"
   ]
  },
  {
   "cell_type": "code",
   "execution_count": 360,
   "metadata": {},
   "outputs": [
    {
     "data": {
      "text/plain": [
       "array([[0.8, 0.2],\n",
       "       [0. , 1. ],\n",
       "       [0.2, 0.8],\n",
       "       [0.8, 0.2],\n",
       "       [1. , 0. ],\n",
       "       [0.4, 0.6],\n",
       "       [0.4, 0.6],\n",
       "       [0. , 1. ],\n",
       "       [0. , 1. ],\n",
       "       [0.4, 0.6],\n",
       "       [0.4, 0.6],\n",
       "       [0.8, 0.2],\n",
       "       [0.2, 0.8],\n",
       "       [0.4, 0.6],\n",
       "       [0.6, 0.4],\n",
       "       [0.8, 0.2],\n",
       "       [0.2, 0.8],\n",
       "       [0.6, 0.4],\n",
       "       [0.6, 0.4],\n",
       "       [0. , 1. ],\n",
       "       [0.2, 0.8],\n",
       "       [1. , 0. ],\n",
       "       [0.6, 0.4],\n",
       "       [0.4, 0.6]])"
      ]
     },
     "execution_count": 360,
     "metadata": {},
     "output_type": "execute_result"
    }
   ],
   "source": [
    "# Menentukan probabilitas hasil prediksi\n",
    "classifier.predict_proba(x_test)"
   ]
  },
  {
   "cell_type": "code",
   "execution_count": 361,
   "metadata": {},
   "outputs": [],
   "source": [
    "from sklearn.metrics import classification_report, confusion_matrix "
   ]
  },
  {
   "cell_type": "code",
   "execution_count": 362,
   "metadata": {},
   "outputs": [
    {
     "name": "stdout",
     "output_type": "stream",
     "text": [
      "[[ 6  4]\n",
      " [ 4 10]]\n"
     ]
    }
   ],
   "source": [
    "print(confusion_matrix(y_test, y_pred)) "
   ]
  },
  {
   "cell_type": "code",
   "execution_count": 370,
   "metadata": {},
   "outputs": [],
   "source": [
    "# Merapikan hasil confusion matrix\n",
    "y_actual = pd.Series([1,2,2,2,1,2,2,2,2,1,1,1,1,1,1,1,2,2,2,2,2,1,2,2], name = \"actual\")\n",
    "y_pred = pd.Series([1, 2, 2, 1, 1, 2, 2, 2, 2, 2, 2, 1, 2, 2, 1, 1, 2, 1, 1, 2, 2, 1,\n",
    "       1, 2], name = \"prediction\")\n",
    "df_confusion = pd.crosstab(y_actual, y_pred)"
   ]
  },
  {
   "cell_type": "code",
   "execution_count": 371,
   "metadata": {},
   "outputs": [
    {
     "data": {
      "text/html": [
       "<div>\n",
       "<style scoped>\n",
       "    .dataframe tbody tr th:only-of-type {\n",
       "        vertical-align: middle;\n",
       "    }\n",
       "\n",
       "    .dataframe tbody tr th {\n",
       "        vertical-align: top;\n",
       "    }\n",
       "\n",
       "    .dataframe thead th {\n",
       "        text-align: right;\n",
       "    }\n",
       "</style>\n",
       "<table border=\"1\" class=\"dataframe\">\n",
       "  <thead>\n",
       "    <tr style=\"text-align: right;\">\n",
       "      <th>prediction</th>\n",
       "      <th>1</th>\n",
       "      <th>2</th>\n",
       "    </tr>\n",
       "    <tr>\n",
       "      <th>actual</th>\n",
       "      <th></th>\n",
       "      <th></th>\n",
       "    </tr>\n",
       "  </thead>\n",
       "  <tbody>\n",
       "    <tr>\n",
       "      <th>1</th>\n",
       "      <td>6</td>\n",
       "      <td>4</td>\n",
       "    </tr>\n",
       "    <tr>\n",
       "      <th>2</th>\n",
       "      <td>4</td>\n",
       "      <td>10</td>\n",
       "    </tr>\n",
       "  </tbody>\n",
       "</table>\n",
       "</div>"
      ],
      "text/plain": [
       "prediction  1   2\n",
       "actual           \n",
       "1           6   4\n",
       "2           4  10"
      ]
     },
     "execution_count": 371,
     "metadata": {},
     "output_type": "execute_result"
    }
   ],
   "source": [
    "df_confusion"
   ]
  },
  {
   "cell_type": "code",
   "execution_count": 229,
   "metadata": {},
   "outputs": [
    {
     "name": "stdout",
     "output_type": "stream",
     "text": [
      "             precision    recall  f1-score   support\n",
      "\n",
      "          1       0.60      0.60      0.60        10\n",
      "          2       0.71      0.71      0.71        14\n",
      "\n",
      "avg / total       0.67      0.67      0.67        24\n",
      "\n"
     ]
    }
   ],
   "source": [
    "print(classification_report(y_test, y_pred)) "
   ]
  },
  {
   "cell_type": "code",
   "execution_count": 372,
   "metadata": {},
   "outputs": [
    {
     "data": {
      "text/plain": [
       "0.6666666666666666"
      ]
     },
     "execution_count": 372,
     "metadata": {},
     "output_type": "execute_result"
    }
   ],
   "source": [
    "#(TP/ TN)/ n\n",
    "Accuracy = (6+10)/24\n",
    "Accuracy"
   ]
  },
  {
   "cell_type": "code",
   "execution_count": 230,
   "metadata": {},
   "outputs": [],
   "source": [
    "y_actual1 = [1,2,2,2,1,2,2,2,2,1,1,1,1,1,1,1,2,2,2,2,2,1,2,2]\n",
    "y_pred1 = [1, 2, 2, 1, 1, 2, 2, 2, 2, 2, 2, 1, 2, 2, 1, 1, 2, 1, 1, 2, 2, 1,\n",
    "       1, 2]"
   ]
  },
  {
   "cell_type": "code",
   "execution_count": 231,
   "metadata": {},
   "outputs": [
    {
     "name": "stdout",
     "output_type": "stream",
     "text": [
      "Predict          1     2     \n",
      "Actual\n",
      "1                6     4     \n",
      "\n",
      "2                4     10    \n",
      "\n",
      "\n",
      "\n",
      "\n",
      "\n",
      "Overall Statistics : \n",
      "\n",
      "95% CI                                                           (0.47807,0.85527)\n",
      "AUNP                                                             0.65714\n",
      "AUNU                                                             0.65714\n",
      "Bennett S                                                        0.33333\n",
      "CBA                                                              0.65714\n",
      "Chi-Squared                                                      2.37061\n",
      "Chi-Squared DF                                                   1\n",
      "Conditional Entropy                                              0.90805\n",
      "Cramer V                                                         0.31429\n",
      "Cross Entropy                                                    0.97987\n",
      "Gwet AC1                                                         0.35135\n",
      "Hamming Loss                                                     0.33333\n",
      "Joint Entropy                                                    1.88792\n",
      "KL Divergence                                                    0.0\n",
      "Kappa                                                            0.31429\n",
      "Kappa 95% CI                                                     (-0.07369,0.70227)\n",
      "Kappa No Prevalence                                              0.33333\n",
      "Kappa Standard Error                                             0.19795\n",
      "Kappa Unbiased                                                   0.31429\n",
      "Lambda A                                                         0.2\n",
      "Lambda B                                                         0.2\n",
      "Mutual Information                                               0.07182\n",
      "NIR                                                              0.58333\n",
      "Overall ACC                                                      0.66667\n",
      "Overall CEN                                                      0.85488\n",
      "Overall J                                                        (0.98413,0.49206)\n",
      "Overall MCC                                                      0.31429\n",
      "Overall MCEN                                                     0.66288\n",
      "Overall RACC                                                     0.51389\n",
      "Overall RACCU                                                    0.51389\n",
      "P-Value                                                          0.27018\n",
      "PPV Macro                                                        0.65714\n",
      "PPV Micro                                                        0.66667\n",
      "Phi-Squared                                                      0.09878\n",
      "RCI                                                              0.07329\n",
      "RR                                                               12.0\n",
      "Reference Entropy                                                0.97987\n",
      "Response Entropy                                                 0.97987\n",
      "SOA1(Landis & Koch)                                              Fair\n",
      "SOA2(Fleiss)                                                     Poor\n",
      "SOA3(Altman)                                                     Fair\n",
      "SOA4(Cicchetti)                                                  Poor\n",
      "Scott PI                                                         0.31429\n",
      "Standard Error                                                   0.09623\n",
      "TPR Macro                                                        0.65714\n",
      "TPR Micro                                                        0.66667\n",
      "Zero-one Loss                                                    8\n",
      "\n",
      "Class Statistics :\n",
      "\n",
      "Classes                                                          1                       2                       \n",
      "ACC(Accuracy)                                                    0.66667                 0.66667                 \n",
      "AUC(Area under the roc curve)                                    0.65714                 0.65714                 \n",
      "AUCI(Auc value interpretation)                                   Fair                    Fair                    \n",
      "BM(Informedness or bookmaker informedness)                       0.31429                 0.31429                 \n",
      "CEN(Confusion entropy)                                           0.92877                 0.8021                  \n",
      "DOR(Diagnostic odds ratio)                                       3.75                    3.75                    \n",
      "DP(Discriminant power)                                           0.31648                 0.31648                 \n",
      "DPI(Discriminant power interpretation)                           Poor                    Poor                    \n",
      "ERR(Error rate)                                                  0.33333                 0.33333                 \n",
      "F0.5(F0.5 score)                                                 0.6                     0.71429                 \n",
      "F1(F1 score - harmonic mean of precision and sensitivity)        0.6                     0.71429                 \n",
      "F2(F2 score)                                                     0.6                     0.71429                 \n",
      "FDR(False discovery rate)                                        0.4                     0.28571                 \n",
      "FN(False negative/miss/type 2 error)                             4                       4                       \n",
      "FNR(Miss rate or false negative rate)                            0.4                     0.28571                 \n",
      "FOR(False omission rate)                                         0.28571                 0.4                     \n",
      "FP(False positive/type 1 error/false alarm)                      4                       4                       \n",
      "FPR(Fall-out or false positive rate)                             0.28571                 0.4                     \n",
      "G(G-measure geometric mean of precision and sensitivity)         0.6                     0.71429                 \n",
      "GI(Gini index)                                                   0.31429                 0.31429                 \n",
      "IS(Information score)                                            0.52607                 0.29218                 \n",
      "J(Jaccard index)                                                 0.42857                 0.55556                 \n",
      "MCC(Matthews correlation coefficient)                            0.31429                 0.31429                 \n",
      "MCEN(Modified confusion entropy)                                 1.03277                 0.96441                 \n",
      "MK(Markedness)                                                   0.31429                 0.31429                 \n",
      "N(Condition negative)                                            14                      10                      \n",
      "NLR(Negative likelihood ratio)                                   0.56                    0.47619                 \n",
      "NPV(Negative predictive value)                                   0.71429                 0.6                     \n",
      "P(Condition positive or support)                                 10                      14                      \n",
      "PLR(Positive likelihood ratio)                                   2.1                     1.78571                 \n",
      "PLRI(Positive likelihood ratio interpretation)                   Poor                    Poor                    \n",
      "POP(Population)                                                  24                      24                      \n",
      "PPV(Precision or positive predictive value)                      0.6                     0.71429                 \n",
      "PRE(Prevalence)                                                  0.41667                 0.58333                 \n",
      "RACC(Random accuracy)                                            0.17361                 0.34028                 \n",
      "RACCU(Random accuracy unbiased)                                  0.17361                 0.34028                 \n",
      "TN(True negative/correct rejection)                              10                      6                       \n",
      "TNR(Specificity or true negative rate)                           0.71429                 0.6                     \n",
      "TON(Test outcome negative)                                       14                      10                      \n",
      "TOP(Test outcome positive)                                       10                      14                      \n",
      "TP(True positive/hit)                                            6                       10                      \n",
      "TPR(Sensitivity, recall, hit rate, or true positive rate)        0.6                     0.71429                 \n",
      "Y(Youden index)                                                  0.31429                 0.31429                 \n",
      "dInd(Distance index)                                             0.49156                 0.49156                 \n",
      "sInd(Similarity index)                                           0.65241                 0.65241                 \n",
      "\n"
     ]
    }
   ],
   "source": [
    "print(ConfusionMatrix(y_actual1, y_pred1))"
   ]
  }
 ],
 "metadata": {
  "kernelspec": {
   "display_name": "Python 3",
   "language": "python",
   "name": "python3"
  },
  "language_info": {
   "codemirror_mode": {
    "name": "ipython",
    "version": 3
   },
   "file_extension": ".py",
   "mimetype": "text/x-python",
   "name": "python",
   "nbconvert_exporter": "python",
   "pygments_lexer": "ipython3",
   "version": "3.6.4"
  }
 },
 "nbformat": 4,
 "nbformat_minor": 2
}
